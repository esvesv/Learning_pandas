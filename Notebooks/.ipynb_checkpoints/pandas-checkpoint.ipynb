{
 "cells": [
  {
   "cell_type": "code",
   "execution_count": 1,
   "id": "dc237148",
   "metadata": {},
   "outputs": [],
   "source": [
    "import numpy as np\n",
    "import pandas as pd"
   ]
  },
  {
   "cell_type": "code",
   "execution_count": 2,
   "id": "84a58244",
   "metadata": {},
   "outputs": [],
   "source": [
    "import datetime\n",
    "from datetime import datetime, date"
   ]
  },
  {
   "cell_type": "code",
   "execution_count": 3,
   "id": "1faf9fce",
   "metadata": {},
   "outputs": [],
   "source": [
    "pd.set_option('display.notebook_repr_html', False)\n",
    "pd.set_option('display.max_columns', 9)\n",
    "pd.set_option('display.max_rows', 10)\n",
    "pd.set_option('display.width', 80)"
   ]
  },
  {
   "cell_type": "code",
   "execution_count": 4,
   "id": "ede0d237",
   "metadata": {
    "scrolled": false
   },
   "outputs": [],
   "source": [
    "import matplotlib.pyplot as plt\n",
    "%matplotlib inline"
   ]
  },
  {
   "cell_type": "code",
   "execution_count": 5,
   "id": "d5cbdbdf",
   "metadata": {},
   "outputs": [
    {
     "data": {
      "text/plain": [
       "0    0\n",
       "1    1\n",
       "2    2\n",
       "dtype: int32"
      ]
     },
     "execution_count": 5,
     "metadata": {},
     "output_type": "execute_result"
    }
   ],
   "source": [
    "s1 = pd.Series(np.arange(0, 3))\n",
    "s2 = pd.Series(np.arange(5, 8))\n",
    "s1"
   ]
  },
  {
   "cell_type": "code",
   "execution_count": 6,
   "id": "1e66bc4c",
   "metadata": {},
   "outputs": [
    {
     "data": {
      "text/plain": [
       "0    5\n",
       "1    6\n",
       "2    7\n",
       "dtype: int32"
      ]
     },
     "execution_count": 6,
     "metadata": {},
     "output_type": "execute_result"
    }
   ],
   "source": [
    "s2"
   ]
  },
  {
   "cell_type": "code",
   "execution_count": 7,
   "id": "03221df3",
   "metadata": {},
   "outputs": [
    {
     "data": {
      "text/plain": [
       "0    0\n",
       "1    1\n",
       "2    2\n",
       "0    5\n",
       "1    6\n",
       "2    7\n",
       "dtype: int32"
      ]
     },
     "execution_count": 7,
     "metadata": {},
     "output_type": "execute_result"
    }
   ],
   "source": [
    "pd.concat([s1, s2])"
   ]
  },
  {
   "cell_type": "code",
   "execution_count": 8,
   "id": "9df5ea85",
   "metadata": {},
   "outputs": [
    {
     "data": {
      "text/plain": [
       "   a  b  c\n",
       "0  0  1  2\n",
       "1  3  4  5\n",
       "2  6  7  8"
      ]
     },
     "execution_count": 8,
     "metadata": {},
     "output_type": "execute_result"
    }
   ],
   "source": [
    "df1 = pd.DataFrame(np.arange(9).reshape(3, 3),\n",
    "                  columns=['a', 'b', 'c'])\n",
    "df1"
   ]
  },
  {
   "cell_type": "code",
   "execution_count": 9,
   "id": "cc181203",
   "metadata": {},
   "outputs": [
    {
     "data": {
      "text/plain": [
       "    a   b   c\n",
       "0   9  10  11\n",
       "1  12  13  14\n",
       "2  15  16  17"
      ]
     },
     "execution_count": 9,
     "metadata": {},
     "output_type": "execute_result"
    }
   ],
   "source": [
    "df2 = pd.DataFrame(np.arange(9, 18).reshape(3, 3),\n",
    "                  columns=['a', 'b', 'c'])\n",
    "df2"
   ]
  },
  {
   "cell_type": "code",
   "execution_count": 10,
   "id": "d858355a",
   "metadata": {},
   "outputs": [
    {
     "data": {
      "text/plain": [
       "    a   b   c\n",
       "0   0   1   2\n",
       "1   3   4   5\n",
       "2   6   7   8\n",
       "0   9  10  11\n",
       "1  12  13  14\n",
       "2  15  16  17"
      ]
     },
     "execution_count": 10,
     "metadata": {},
     "output_type": "execute_result"
    }
   ],
   "source": [
    "pd.concat([df1, df2])"
   ]
  },
  {
   "cell_type": "code",
   "execution_count": 11,
   "id": "eb1a2426",
   "metadata": {},
   "outputs": [
    {
     "data": {
      "text/plain": [
       "    a   b   d\n",
       "0   9  10  11\n",
       "1  12  13  14\n",
       "2  15  16  17"
      ]
     },
     "execution_count": 11,
     "metadata": {},
     "output_type": "execute_result"
    }
   ],
   "source": [
    "df2 = pd.DataFrame(np.arange(9, 18).reshape(3, 3),\n",
    "                  columns=['a', 'b', 'd'])\n",
    "df2"
   ]
  },
  {
   "cell_type": "code",
   "execution_count": 12,
   "id": "9aef22b9",
   "metadata": {},
   "outputs": [
    {
     "data": {
      "text/plain": [
       "    a   b    c     d\n",
       "0   0   1  2.0   NaN\n",
       "1   3   4  5.0   NaN\n",
       "2   6   7  8.0   NaN\n",
       "0   9  10  NaN  11.0\n",
       "1  12  13  NaN  14.0\n",
       "2  15  16  NaN  17.0"
      ]
     },
     "execution_count": 12,
     "metadata": {},
     "output_type": "execute_result"
    }
   ],
   "source": [
    "pd.concat([df1, df2])"
   ]
  },
  {
   "cell_type": "code",
   "execution_count": 13,
   "id": "0ea14c94",
   "metadata": {},
   "outputs": [
    {
     "data": {
      "text/plain": [
       "        a   b    c     d\n",
       "df1 0   0   1  2.0   NaN\n",
       "    1   3   4  5.0   NaN\n",
       "    2   6   7  8.0   NaN\n",
       "df2 0   9  10  NaN  11.0\n",
       "    1  12  13  NaN  14.0\n",
       "    2  15  16  NaN  17.0"
      ]
     },
     "execution_count": 13,
     "metadata": {},
     "output_type": "execute_result"
    }
   ],
   "source": [
    "c = pd.concat([df1, df2], keys=['df1', 'df2'])\n",
    "c"
   ]
  },
  {
   "cell_type": "code",
   "execution_count": 14,
   "id": "2e3de2ed",
   "metadata": {},
   "outputs": [
    {
     "data": {
      "text/plain": [
       "    a   b   c     d\n",
       "0   9  10 NaN  11.0\n",
       "1  12  13 NaN  14.0\n",
       "2  15  16 NaN  17.0"
      ]
     },
     "execution_count": 14,
     "metadata": {},
     "output_type": "execute_result"
    }
   ],
   "source": [
    "c.loc['df2']"
   ]
  },
  {
   "cell_type": "code",
   "execution_count": 15,
   "id": "00ab7856",
   "metadata": {},
   "outputs": [
    {
     "data": {
      "text/plain": [
       "   a  b  c   a   b   d\n",
       "0  0  1  2   9  10  11\n",
       "1  3  4  5  12  13  14\n",
       "2  6  7  8  15  16  17"
      ]
     },
     "execution_count": 15,
     "metadata": {},
     "output_type": "execute_result"
    }
   ],
   "source": [
    "pd.concat([df1, df2], axis=1)"
   ]
  },
  {
   "cell_type": "code",
   "execution_count": 16,
   "id": "732c9d40",
   "metadata": {},
   "outputs": [
    {
     "data": {
      "text/plain": [
       "    a   d\n",
       "2  20  21\n",
       "3  22  23\n",
       "4  24  25"
      ]
     },
     "execution_count": 16,
     "metadata": {},
     "output_type": "execute_result"
    }
   ],
   "source": [
    "df3 = pd.DataFrame(np.arange(20, 26).reshape(3, 2),\n",
    "                  columns=['a', 'd'],\n",
    "                  index=[2, 3, 4])\n",
    "df3"
   ]
  },
  {
   "cell_type": "code",
   "execution_count": 29,
   "id": "a7c6ae52",
   "metadata": {
    "scrolled": true
   },
   "outputs": [],
   "source": [
    "df = pd.concat([df1, df3], axis=1)"
   ]
  },
  {
   "cell_type": "code",
   "execution_count": 20,
   "id": "ecf1a481",
   "metadata": {},
   "outputs": [
    {
     "data": {
      "text/plain": [
       "   a  b  c   a   d\n",
       "2  6  7  8  20  21"
      ]
     },
     "execution_count": 20,
     "metadata": {},
     "output_type": "execute_result"
    }
   ],
   "source": [
    "pd.concat([df1, df3], axis=1, join='inner')"
   ]
  },
  {
   "cell_type": "code",
   "execution_count": 25,
   "id": "bcef5cf9",
   "metadata": {},
   "outputs": [
    {
     "data": {
      "text/plain": [
       "   a  b  c   a   d\n",
       "2  6  7  8  20  21"
      ]
     },
     "execution_count": 25,
     "metadata": {},
     "output_type": "execute_result"
    }
   ],
   "source": [
    "pd.concat([df1, df3], axis=1, join='inner')"
   ]
  },
  {
   "cell_type": "code",
   "execution_count": 32,
   "id": "9ac6e31b",
   "metadata": {
    "scrolled": true
   },
   "outputs": [],
   "source": [
    "df = pd.concat([df1, df3], axis=1, keys=['df1', 'df2'])"
   ]
  },
  {
   "cell_type": "code",
   "execution_count": 33,
   "id": "df554ad5",
   "metadata": {},
   "outputs": [
    {
     "data": {
      "text/plain": [
       "      a     d\n",
       "0   NaN   NaN\n",
       "1   NaN   NaN\n",
       "2  20.0  21.0\n",
       "3  22.0  23.0\n",
       "4  24.0  25.0"
      ]
     },
     "execution_count": 33,
     "metadata": {},
     "output_type": "execute_result"
    }
   ],
   "source": [
    "df.loc[:, 'df2']"
   ]
  },
  {
   "cell_type": "code",
   "execution_count": 34,
   "id": "12868090",
   "metadata": {},
   "outputs": [
    {
     "data": {
      "text/plain": [
       "      a     d\n",
       "0   NaN   NaN\n",
       "1   NaN   NaN\n",
       "2  20.0  21.0\n",
       "3  22.0  23.0\n",
       "4  24.0  25.0"
      ]
     },
     "execution_count": 34,
     "metadata": {},
     "output_type": "execute_result"
    }
   ],
   "source": [
    "df['df2']"
   ]
  },
  {
   "cell_type": "code",
   "execution_count": 35,
   "id": "43acd31f",
   "metadata": {},
   "outputs": [
    {
     "data": {
      "text/plain": [
       "   a  b  c\n",
       "0  0  1  2\n",
       "1  3  4  5\n",
       "2  6  7  8"
      ]
     },
     "execution_count": 35,
     "metadata": {},
     "output_type": "execute_result"
    }
   ],
   "source": [
    "df1"
   ]
  },
  {
   "cell_type": "code",
   "execution_count": 36,
   "id": "2743e6da",
   "metadata": {},
   "outputs": [
    {
     "data": {
      "text/plain": [
       "    a   b   d\n",
       "0   9  10  11\n",
       "1  12  13  14\n",
       "2  15  16  17"
      ]
     },
     "execution_count": 36,
     "metadata": {},
     "output_type": "execute_result"
    }
   ],
   "source": [
    "df2"
   ]
  },
  {
   "cell_type": "code",
   "execution_count": 37,
   "id": "97a8f5e3",
   "metadata": {},
   "outputs": [
    {
     "name": "stderr",
     "output_type": "stream",
     "text": [
      "C:\\Users\\Sergey\\AppData\\Local\\Temp\\ipykernel_13220\\3062608662.py:1: FutureWarning: The frame.append method is deprecated and will be removed from pandas in a future version. Use pandas.concat instead.\n",
      "  df1.append(df2)\n"
     ]
    },
    {
     "data": {
      "text/plain": [
       "    a   b    c     d\n",
       "0   0   1  2.0   NaN\n",
       "1   3   4  5.0   NaN\n",
       "2   6   7  8.0   NaN\n",
       "0   9  10  NaN  11.0\n",
       "1  12  13  NaN  14.0\n",
       "2  15  16  NaN  17.0"
      ]
     },
     "execution_count": 37,
     "metadata": {},
     "output_type": "execute_result"
    }
   ],
   "source": [
    "df1.append(df2)"
   ]
  },
  {
   "cell_type": "code",
   "execution_count": 41,
   "id": "30adac9e",
   "metadata": {},
   "outputs": [
    {
     "data": {
      "text/plain": [
       "    a   b    c     d\n",
       "0   0   1  2.0   NaN\n",
       "1   3   4  5.0   NaN\n",
       "2   6   7  8.0   NaN\n",
       "3   9  10  NaN  11.0\n",
       "4  12  13  NaN  14.0\n",
       "5  15  16  NaN  17.0"
      ]
     },
     "execution_count": 41,
     "metadata": {},
     "output_type": "execute_result"
    }
   ],
   "source": [
    "pd.concat([df1, df2], ignore_index=True)"
   ]
  },
  {
   "cell_type": "code",
   "execution_count": null,
   "id": "4328be0b",
   "metadata": {},
   "outputs": [],
   "source": [
    "231"
   ]
  },
  {
   "cell_type": "code",
   "execution_count": null,
   "id": "985b9d48",
   "metadata": {},
   "outputs": [],
   "source": []
  },
  {
   "cell_type": "code",
   "execution_count": null,
   "id": "84d76d6d",
   "metadata": {},
   "outputs": [],
   "source": []
  },
  {
   "cell_type": "code",
   "execution_count": null,
   "id": "1acf1888",
   "metadata": {},
   "outputs": [],
   "source": []
  },
  {
   "cell_type": "code",
   "execution_count": null,
   "id": "66f9ad1e",
   "metadata": {},
   "outputs": [],
   "source": []
  },
  {
   "cell_type": "code",
   "execution_count": null,
   "id": "af15654c",
   "metadata": {},
   "outputs": [],
   "source": []
  },
  {
   "cell_type": "code",
   "execution_count": null,
   "id": "635f60ba",
   "metadata": {},
   "outputs": [],
   "source": []
  }
 ],
 "metadata": {
  "kernelspec": {
   "display_name": "Python 3 (ipykernel)",
   "language": "python",
   "name": "python3"
  },
  "language_info": {
   "codemirror_mode": {
    "name": "ipython",
    "version": 3
   },
   "file_extension": ".py",
   "mimetype": "text/x-python",
   "name": "python",
   "nbconvert_exporter": "python",
   "pygments_lexer": "ipython3",
   "version": "3.10.6"
  }
 },
 "nbformat": 4,
 "nbformat_minor": 5
}
