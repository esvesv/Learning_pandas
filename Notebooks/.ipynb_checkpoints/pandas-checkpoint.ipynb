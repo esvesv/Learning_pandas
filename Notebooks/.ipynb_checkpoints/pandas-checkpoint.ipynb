{
 "cells": [
  {
   "cell_type": "code",
   "execution_count": 1,
   "id": "dc237148",
   "metadata": {},
   "outputs": [],
   "source": [
    "import numpy as np\n",
    "import pandas as pd"
   ]
  },
  {
   "cell_type": "code",
   "execution_count": 2,
   "id": "84a58244",
   "metadata": {},
   "outputs": [],
   "source": [
    "import datetime\n",
    "from datetime import datetime, date"
   ]
  },
  {
   "cell_type": "code",
   "execution_count": 3,
   "id": "1faf9fce",
   "metadata": {},
   "outputs": [],
   "source": [
    "pd.set_option('display.notebook_repr_html', False)\n",
    "pd.set_option('display.max_columns', 8)\n",
    "pd.set_option('display.max_rows', 10)\n",
    "pd.set_option('display.width', 60)"
   ]
  },
  {
   "cell_type": "code",
   "execution_count": 4,
   "id": "5cdf1e31",
   "metadata": {},
   "outputs": [],
   "source": [
    "sp500 = pd.read_csv('Data/sp500.csv', index_col='Symbol', usecols=[0, 2, 3, 7])"
   ]
  },
  {
   "cell_type": "code",
   "execution_count": 5,
   "id": "91228541",
   "metadata": {},
   "outputs": [],
   "source": [
    "np.random.seed(123456)\n",
    "\n",
    "df = pd.DataFrame({'foo': np.random.random(10000), 'key': range(100, 10100)})"
   ]
  },
  {
   "cell_type": "code",
   "execution_count": 6,
   "id": "3cd774d1",
   "metadata": {},
   "outputs": [
    {
     "data": {
      "text/plain": [
       "        foo  key\n",
       "0  0.126970  100\n",
       "1  0.966718  101\n",
       "2  0.260476  102\n",
       "3  0.897237  103\n",
       "4  0.376750  104"
      ]
     },
     "execution_count": 6,
     "metadata": {},
     "output_type": "execute_result"
    }
   ],
   "source": [
    "df.head()"
   ]
  },
  {
   "cell_type": "code",
   "execution_count": 7,
   "id": "e0044ae1",
   "metadata": {},
   "outputs": [
    {
     "data": {
      "text/plain": [
       "           foo    key\n",
       "9995  0.769913  10095\n",
       "9996  0.752521  10096\n",
       "9997  0.216083  10097\n",
       "9998  0.448789  10098\n",
       "9999  0.272283  10099"
      ]
     },
     "execution_count": 7,
     "metadata": {},
     "output_type": "execute_result"
    }
   ],
   "source": [
    "df.tail()"
   ]
  },
  {
   "cell_type": "code",
   "execution_count": 8,
   "id": "c2d18ee2",
   "metadata": {},
   "outputs": [
    {
     "data": {
      "text/plain": [
       "           foo    key\n",
       "9999  0.272283  10099"
      ]
     },
     "execution_count": 8,
     "metadata": {},
     "output_type": "execute_result"
    }
   ],
   "source": [
    "df[df['key'] == 10099]"
   ]
  },
  {
   "cell_type": "code",
   "execution_count": 9,
   "id": "4848e311",
   "metadata": {},
   "outputs": [
    {
     "name": "stdout",
     "output_type": "stream",
     "text": [
      "287 µs ± 15.2 µs per loop (mean ± std. dev. of 7 runs, 1,000 loops each)\n"
     ]
    }
   ],
   "source": [
    "%%timeit\n",
    "df[df.key == 10099]"
   ]
  },
  {
   "cell_type": "code",
   "execution_count": 10,
   "id": "6f69cd19",
   "metadata": {},
   "outputs": [],
   "source": [
    "df_with_index = df.set_index(['key'])"
   ]
  },
  {
   "cell_type": "code",
   "execution_count": 11,
   "id": "5cd1c1ec",
   "metadata": {},
   "outputs": [
    {
     "data": {
      "text/plain": [
       "          foo\n",
       "key          \n",
       "100  0.126970\n",
       "101  0.966718\n",
       "102  0.260476\n",
       "103  0.897237\n",
       "104  0.376750"
      ]
     },
     "execution_count": 11,
     "metadata": {},
     "output_type": "execute_result"
    }
   ],
   "source": [
    "df_with_index.head()"
   ]
  },
  {
   "cell_type": "code",
   "execution_count": 12,
   "id": "57782213",
   "metadata": {},
   "outputs": [
    {
     "name": "stdout",
     "output_type": "stream",
     "text": [
      "58.3 µs ± 1.36 µs per loop (mean ± std. dev. of 7 runs, 10,000 loops each)\n"
     ]
    }
   ],
   "source": [
    "%%timeit\n",
    "df_with_index.loc[10099]"
   ]
  },
  {
   "cell_type": "code",
   "execution_count": 13,
   "id": "787997c2",
   "metadata": {},
   "outputs": [
    {
     "data": {
      "text/plain": [
       "           City  Temperature\n",
       "0      Missoula           70\n",
       "1  Philadelphia           80"
      ]
     },
     "execution_count": 13,
     "metadata": {},
     "output_type": "execute_result"
    }
   ],
   "source": [
    "temps = pd.DataFrame({'City': ['Missoula', 'Philadelphia'],\n",
    "                     'Temperature': [70, 80]})\n",
    "temps"
   ]
  },
  {
   "cell_type": "code",
   "execution_count": 14,
   "id": "b361c471",
   "metadata": {},
   "outputs": [
    {
     "data": {
      "text/plain": [
       "Index(['City', 'Temperature'], dtype='object')"
      ]
     },
     "execution_count": 14,
     "metadata": {},
     "output_type": "execute_result"
    }
   ],
   "source": [
    "temps.columns"
   ]
  },
  {
   "cell_type": "code",
   "execution_count": 17,
   "id": "365d590d",
   "metadata": {},
   "outputs": [],
   "source": [
    "df_f64 = pd.DataFrame(np.arange(0, 1000, 5), np.arange(0.0, 100.0, 0.5))"
   ]
  },
  {
   "cell_type": "code",
   "execution_count": 19,
   "id": "53bb7689",
   "metadata": {},
   "outputs": [
    {
     "data": {
      "text/plain": [
       "Float64Index([ 0.0,  0.5,  1.0,  1.5,  2.0,  2.5,  3.0,\n",
       "               3.5,  4.0,  4.5,\n",
       "              ...\n",
       "              95.0, 95.5, 96.0, 96.5, 97.0, 97.5, 98.0,\n",
       "              98.5, 99.0, 99.5],\n",
       "             dtype='float64', length=200)"
      ]
     },
     "execution_count": 19,
     "metadata": {},
     "output_type": "execute_result"
    }
   ],
   "source": [
    "df_f64.index"
   ]
  },
  {
   "cell_type": "code",
   "execution_count": 22,
   "id": "c3f78865",
   "metadata": {},
   "outputs": [],
   "source": [
    "df_interval = pd.DataFrame({'A': [1, 2, 3, 4]}, index=pd.IntervalIndex.from_breaks([0, 0.5, 1.0, 1.5, 2.0]))"
   ]
  },
  {
   "cell_type": "code",
   "execution_count": 23,
   "id": "db8f358d",
   "metadata": {},
   "outputs": [
    {
     "data": {
      "text/plain": [
       "            A\n",
       "(0.0, 0.5]  1\n",
       "(0.5, 1.0]  2\n",
       "(1.0, 1.5]  3\n",
       "(1.5, 2.0]  4"
      ]
     },
     "execution_count": 23,
     "metadata": {},
     "output_type": "execute_result"
    }
   ],
   "source": [
    "df_interval.head()"
   ]
  },
  {
   "cell_type": "code",
   "execution_count": 24,
   "id": "696599c6",
   "metadata": {},
   "outputs": [
    {
     "data": {
      "text/plain": [
       "IntervalIndex([(0.0, 0.5], (0.5, 1.0], (1.0, 1.5], (1.5, 2.0]], dtype='interval[float64, right]')"
      ]
     },
     "execution_count": 24,
     "metadata": {},
     "output_type": "execute_result"
    }
   ],
   "source": [
    "df_interval.index"
   ]
  },
  {
   "cell_type": "code",
   "execution_count": 46,
   "id": "0204a834",
   "metadata": {},
   "outputs": [],
   "source": [
    "df_categorical = pd.DataFrame({'A': np.arange(6), 'B': list('aabbca')})"
   ]
  },
  {
   "cell_type": "code",
   "execution_count": 47,
   "id": "2028957b",
   "metadata": {},
   "outputs": [],
   "source": [
    "# from pandas.api.types import CategoricalDtype\n",
    "df_categorical['B'] = df_categorical['B'].astype('category')"
   ]
  },
  {
   "cell_type": "code",
   "execution_count": 48,
   "id": "1afdecf2",
   "metadata": {},
   "outputs": [
    {
     "name": "stdout",
     "output_type": "stream",
     "text": [
      "<class 'pandas.core.frame.DataFrame'>\n",
      "RangeIndex: 6 entries, 0 to 5\n",
      "Data columns (total 2 columns):\n",
      " #   Column  Non-Null Count  Dtype   \n",
      "---  ------  --------------  -----   \n",
      " 0   A       6 non-null      int32   \n",
      " 1   B       6 non-null      category\n",
      "dtypes: category(1), int32(1)\n",
      "memory usage: 290.0 bytes\n"
     ]
    }
   ],
   "source": [
    "df_categorical.info()"
   ]
  },
  {
   "cell_type": "code",
   "execution_count": 41,
   "id": "5d8c9da3",
   "metadata": {},
   "outputs": [
    {
     "data": {
      "text/plain": [
       "0    a\n",
       "1    a\n",
       "2    b\n",
       "3    b\n",
       "4    c\n",
       "5    a\n",
       "Name: B, dtype: category\n",
       "Categories (3, object): ['a', 'b', 'c']"
      ]
     },
     "execution_count": 41,
     "metadata": {},
     "output_type": "execute_result"
    }
   ],
   "source": [
    "df_categorical['B']"
   ]
  },
  {
   "cell_type": "code",
   "execution_count": 43,
   "id": "a8e2c31c",
   "metadata": {},
   "outputs": [],
   "source": [
    "from pandas.api.types import CategoricalDtype\n",
    "df_categorical['B'] = df_categorical['B'].astype(CategoricalDtype(categories=list('cab')))"
   ]
  },
  {
   "cell_type": "code",
   "execution_count": 45,
   "id": "6d326994",
   "metadata": {},
   "outputs": [
    {
     "name": "stdout",
     "output_type": "stream",
     "text": [
      "<class 'pandas.core.frame.DataFrame'>\n",
      "RangeIndex: 6 entries, 0 to 5\n",
      "Data columns (total 2 columns):\n",
      " #   Column  Non-Null Count  Dtype   \n",
      "---  ------  --------------  -----   \n",
      " 0   A       6 non-null      int32   \n",
      " 1   B       6 non-null      category\n",
      "dtypes: category(1), int32(1)\n",
      "memory usage: 290.0 bytes\n"
     ]
    }
   ],
   "source": [
    "df_categorical.info()"
   ]
  },
  {
   "cell_type": "code",
   "execution_count": 49,
   "id": "1b3fe002",
   "metadata": {},
   "outputs": [
    {
     "data": {
      "text/plain": [
       "CategoricalIndex(['a', 'a', 'b', 'b', 'c', 'a'], categories=['a', 'b', 'c'], ordered=False, dtype='category', name='B')"
      ]
     },
     "execution_count": 49,
     "metadata": {},
     "output_type": "execute_result"
    }
   ],
   "source": [
    "df_categorical = df_categorical.set_index('B')\n",
    "df_categorical.index"
   ]
  },
  {
   "cell_type": "code",
   "execution_count": 50,
   "id": "a3fc880c",
   "metadata": {},
   "outputs": [
    {
     "data": {
      "text/plain": [
       "   A\n",
       "B   \n",
       "a  0\n",
       "a  1\n",
       "b  2\n",
       "b  3\n",
       "c  4"
      ]
     },
     "execution_count": 50,
     "metadata": {},
     "output_type": "execute_result"
    }
   ],
   "source": [
    "df_categorical.head()"
   ]
  },
  {
   "cell_type": "code",
   "execution_count": 52,
   "id": "d9614894",
   "metadata": {},
   "outputs": [
    {
     "data": {
      "text/plain": [
       "   A\n",
       "B   \n",
       "a  0\n",
       "a  1\n",
       "a  5"
      ]
     },
     "execution_count": 52,
     "metadata": {},
     "output_type": "execute_result"
    }
   ],
   "source": [
    "df_categorical.loc['a']"
   ]
  },
  {
   "cell_type": "code",
   "execution_count": 54,
   "id": "12627a2c",
   "metadata": {},
   "outputs": [],
   "source": [
    "rng = pd.date_range('5/1/2017', periods=5, freq='H')"
   ]
  },
  {
   "cell_type": "code",
   "execution_count": 59,
   "id": "cea729aa",
   "metadata": {},
   "outputs": [
    {
     "data": {
      "text/plain": [
       "2017-05-01 00:00:00    0.533249\n",
       "2017-05-01 01:00:00   -0.819218\n",
       "2017-05-01 02:00:00   -0.032955\n",
       "2017-05-01 03:00:00   -0.639418\n",
       "2017-05-01 04:00:00   -0.607207\n",
       "Freq: H, dtype: float64"
      ]
     },
     "execution_count": 59,
     "metadata": {},
     "output_type": "execute_result"
    }
   ],
   "source": [
    "ts = pd.Series(np.random.randn(len(rng)), index=rng)\n",
    "ts"
   ]
  },
  {
   "cell_type": "code",
   "execution_count": 60,
   "id": "f8b04069",
   "metadata": {},
   "outputs": [
    {
     "data": {
      "text/plain": [
       "DatetimeIndex(['2017-05-01 00:00:00',\n",
       "               '2017-05-01 01:00:00',\n",
       "               '2017-05-01 02:00:00',\n",
       "               '2017-05-01 03:00:00',\n",
       "               '2017-05-01 04:00:00'],\n",
       "              dtype='datetime64[ns]', freq='H')"
      ]
     },
     "execution_count": 60,
     "metadata": {},
     "output_type": "execute_result"
    }
   ],
   "source": [
    "ts.index"
   ]
  },
  {
   "cell_type": "code",
   "execution_count": 62,
   "id": "ece8031f",
   "metadata": {},
   "outputs": [],
   "source": [
    "periods = pd.PeriodIndex(['2017-1', '2017-2', '2017-3'], freq='M')"
   ]
  },
  {
   "cell_type": "code",
   "execution_count": 63,
   "id": "1fc16d21",
   "metadata": {},
   "outputs": [
    {
     "data": {
      "text/plain": [
       "PeriodIndex(['2017-01', '2017-02', '2017-03'], dtype='period[M]')"
      ]
     },
     "execution_count": 63,
     "metadata": {},
     "output_type": "execute_result"
    }
   ],
   "source": [
    "periods"
   ]
  },
  {
   "cell_type": "code",
   "execution_count": 66,
   "id": "44945e61",
   "metadata": {},
   "outputs": [],
   "source": [
    "period_series = pd.Series(np.random.randn(len(periods)), index=periods)"
   ]
  },
  {
   "cell_type": "code",
   "execution_count": 68,
   "id": "5fd4f0cd",
   "metadata": {},
   "outputs": [],
   "source": [
    "date_times = pd.DatetimeIndex(pd.date_range('5/1/2017', periods=5, freq='H'))"
   ]
  },
  {
   "cell_type": "code",
   "execution_count": 72,
   "id": "1fca50b2",
   "metadata": {},
   "outputs": [],
   "source": [
    "df_date_times = pd.DataFrame(np.arange(0, len(date_times)), index=date_times)"
   ]
  },
  {
   "cell_type": "code",
   "execution_count": 73,
   "id": "c8cf3bbb",
   "metadata": {},
   "outputs": [
    {
     "data": {
      "text/plain": [
       "                        Sector   Price  Book Value\n",
       "Symbol                                            \n",
       "MMM                Industrials  141.14      26.668\n",
       "ABT                Health Care   39.60      15.573\n",
       "ABBV               Health Care   53.95       2.954\n",
       "ACN     Information Technology   79.79       8.326\n",
       "ACE                 Financials  102.91      86.897"
      ]
     },
     "execution_count": 73,
     "metadata": {},
     "output_type": "execute_result"
    }
   ],
   "source": [
    "sp500.head()"
   ]
  },
  {
   "cell_type": "code",
   "execution_count": 74,
   "id": "0404bd19",
   "metadata": {},
   "outputs": [
    {
     "data": {
      "text/plain": [
       "    Symbol                  Sector   Price  Book Value\n",
       "0      MMM             Industrials  141.14      26.668\n",
       "1      ABT             Health Care   39.60      15.573\n",
       "2     ABBV             Health Care   53.95       2.954\n",
       "3      ACN  Information Technology   79.79       8.326\n",
       "4      ACE              Financials  102.91      86.897\n",
       "..     ...                     ...     ...         ...\n",
       "495   YHOO  Information Technology   35.02      12.768\n",
       "496    YUM  Consumer Discretionary   74.77       5.147\n",
       "497    ZMH             Health Care  101.84      37.181\n",
       "498   ZION              Financials   28.43      30.191\n",
       "499    ZTS             Health Care   30.53       2.150\n",
       "\n",
       "[500 rows x 4 columns]"
      ]
     },
     "execution_count": 74,
     "metadata": {},
     "output_type": "execute_result"
    }
   ],
   "source": [
    "sp500.reset_index()"
   ]
  },
  {
   "cell_type": "code",
   "execution_count": 75,
   "id": "208502eb",
   "metadata": {},
   "outputs": [
    {
     "data": {
      "text/plain": [
       "                         Price  Book Value\n",
       "Sector                                    \n",
       "Industrials             141.14      26.668\n",
       "Health Care              39.60      15.573\n",
       "Health Care              53.95       2.954\n",
       "Information Technology   79.79       8.326\n",
       "Financials              102.91      86.897\n",
       "...                        ...         ...\n",
       "Information Technology   35.02      12.768\n",
       "Consumer Discretionary   74.77       5.147\n",
       "Health Care             101.84      37.181\n",
       "Financials               28.43      30.191\n",
       "Health Care              30.53       2.150\n",
       "\n",
       "[500 rows x 2 columns]"
      ]
     },
     "execution_count": 75,
     "metadata": {},
     "output_type": "execute_result"
    }
   ],
   "source": [
    "sp500.set_index('Sector')"
   ]
  },
  {
   "cell_type": "code",
   "execution_count": 76,
   "id": "61a62c3b",
   "metadata": {},
   "outputs": [
    {
     "data": {
      "text/plain": [
       "             Sector   Price  Book Value\n",
       "Symbol                                 \n",
       "MMM     Industrials  141.14      26.668\n",
       "ABBV    Health Care   53.95       2.954\n",
       "FOO             NaN     NaN         NaN"
      ]
     },
     "execution_count": 76,
     "metadata": {},
     "output_type": "execute_result"
    }
   ],
   "source": [
    "sp500.reindex(index=['MMM', 'ABBV', 'FOO'])"
   ]
  },
  {
   "cell_type": "code",
   "execution_count": 82,
   "id": "491ff4e0",
   "metadata": {},
   "outputs": [
    {
     "data": {
      "text/plain": [
       "False"
      ]
     },
     "execution_count": 82,
     "metadata": {},
     "output_type": "execute_result"
    }
   ],
   "source": [
    "'FOO' in sp500.index"
   ]
  },
  {
   "cell_type": "code",
   "execution_count": 80,
   "id": "ad1d4ce8",
   "metadata": {},
   "outputs": [
    {
     "data": {
      "text/plain": [
       "Sector        Health Care\n",
       "Price                39.6\n",
       "Book Value         15.573\n",
       "Name: ABT, dtype: object"
      ]
     },
     "execution_count": 80,
     "metadata": {},
     "output_type": "execute_result"
    }
   ],
   "source": [
    "sp500.loc['ABT']"
   ]
  },
  {
   "cell_type": "code",
   "execution_count": 81,
   "id": "6100009f",
   "metadata": {},
   "outputs": [
    {
     "data": {
      "text/plain": [
       "                        Sector   Price  Book Value\n",
       "Symbol                                            \n",
       "MMM                Industrials  141.14      26.668\n",
       "ABT                Health Care   39.60      15.573\n",
       "ABBV               Health Care   53.95       2.954\n",
       "ACN     Information Technology   79.79       8.326\n",
       "ACE                 Financials  102.91      86.897"
      ]
     },
     "execution_count": 81,
     "metadata": {},
     "output_type": "execute_result"
    }
   ],
   "source": [
    "sp500.head()"
   ]
  },
  {
   "cell_type": "code",
   "execution_count": 84,
   "id": "2c249b65",
   "metadata": {},
   "outputs": [
    {
     "data": {
      "text/plain": [
       "         Price  NewCol\n",
       "Symbol                \n",
       "MMM     141.14     NaN\n",
       "ABT      39.60     NaN\n",
       "ABBV     53.95     NaN\n",
       "ACN      79.79     NaN\n",
       "ACE     102.91     NaN\n",
       "...        ...     ...\n",
       "YHOO     35.02     NaN\n",
       "YUM      74.77     NaN\n",
       "ZMH     101.84     NaN\n",
       "ZION     28.43     NaN\n",
       "ZTS      30.53     NaN\n",
       "\n",
       "[500 rows x 2 columns]"
      ]
     },
     "execution_count": 84,
     "metadata": {},
     "output_type": "execute_result"
    }
   ],
   "source": [
    "sp500.reindex(columns=['Price', 'NewCol'])"
   ]
  },
  {
   "cell_type": "code",
   "execution_count": 88,
   "id": "f11a5a20",
   "metadata": {},
   "outputs": [
    {
     "data": {
      "text/plain": [
       "         Price\n",
       "Symbol        \n",
       "MMM     141.14\n",
       "ABT      39.60\n",
       "ABBV     53.95\n",
       "ACN      79.79\n",
       "ACE     102.91\n",
       "...        ...\n",
       "YHOO     35.02\n",
       "YUM      74.77\n",
       "ZMH     101.84\n",
       "ZION     28.43\n",
       "ZTS      30.53\n",
       "\n",
       "[500 rows x 1 columns]"
      ]
     },
     "execution_count": 88,
     "metadata": {},
     "output_type": "execute_result"
    }
   ],
   "source": [
    "sp500[['Price']]"
   ]
  },
  {
   "cell_type": "code",
   "execution_count": 103,
   "id": "be4e12f0",
   "metadata": {},
   "outputs": [
    {
     "data": {
      "text/plain": [
       "array(['Industrials', 'Health Care', 'Information Technology',\n",
       "       'Financials', 'Utilities', 'Materials', 'Consumer Staples',\n",
       "       'Consumer Discretionary', 'Energy', 'Telecommunications Services',\n",
       "       'Consumer Staples ', 'Industries', 'Consumer Discretionary '],\n",
       "      dtype=object)"
      ]
     },
     "execution_count": 103,
     "metadata": {},
     "output_type": "execute_result"
    }
   ],
   "source": [
    "sp500['Sector'].unique()"
   ]
  },
  {
   "cell_type": "code",
   "execution_count": 104,
   "id": "45e77c2d",
   "metadata": {},
   "outputs": [],
   "source": [
    "reindexed = sp500.reset_index()"
   ]
  },
  {
   "cell_type": "code",
   "execution_count": 95,
   "id": "8527745c",
   "metadata": {},
   "outputs": [],
   "source": [
    "multi_fi = reindexed.set_index(['Sector', 'Symbol'])"
   ]
  },
  {
   "cell_type": "code",
   "execution_count": 102,
   "id": "205f8b2f",
   "metadata": {},
   "outputs": [
    {
     "data": {
      "text/plain": [
       "                                Price  Book Value\n",
       "Sector                 Symbol                    \n",
       "Consumer Discretionary AMZN    312.24      22.452\n",
       "                       AN       56.38      17.327\n",
       "                       AZO     540.90     -51.275\n",
       "                       BEAM      0.00         NaN\n",
       "                       BBBY     61.36      19.563\n",
       "...                               ...         ...\n",
       "                       DIS      83.32      26.405\n",
       "                       WHR     147.26      66.221\n",
       "                       WYN      72.22      11.984\n",
       "                       WYNN    207.86      -0.719\n",
       "                       YUM      74.77       5.147\n",
       "\n",
       "[85 rows x 2 columns]"
      ]
     },
     "execution_count": 102,
     "metadata": {},
     "output_type": "execute_result"
    }
   ],
   "source": [
    "multi_fi.loc[['Consumer Discretionary']]"
   ]
  },
  {
   "cell_type": "code",
   "execution_count": null,
   "id": "3ec2bdb3",
   "metadata": {},
   "outputs": [],
   "source": []
  }
 ],
 "metadata": {
  "kernelspec": {
   "display_name": "Python 3 (ipykernel)",
   "language": "python",
   "name": "python3"
  },
  "language_info": {
   "codemirror_mode": {
    "name": "ipython",
    "version": 3
   },
   "file_extension": ".py",
   "mimetype": "text/x-python",
   "name": "python",
   "nbconvert_exporter": "python",
   "pygments_lexer": "ipython3",
   "version": "3.9.12"
  }
 },
 "nbformat": 4,
 "nbformat_minor": 5
}
