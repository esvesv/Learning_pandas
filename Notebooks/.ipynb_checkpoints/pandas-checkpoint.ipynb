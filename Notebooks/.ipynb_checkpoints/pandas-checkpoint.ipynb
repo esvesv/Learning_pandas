{
 "cells": [
  {
   "cell_type": "code",
   "execution_count": 1,
   "id": "dc237148",
   "metadata": {},
   "outputs": [],
   "source": [
    "import numpy as np\n",
    "import pandas as pd"
   ]
  },
  {
   "cell_type": "code",
   "execution_count": 2,
   "id": "84a58244",
   "metadata": {},
   "outputs": [],
   "source": [
    "import datetime\n",
    "from datetime import datetime, date"
   ]
  },
  {
   "cell_type": "code",
   "execution_count": 3,
   "id": "1faf9fce",
   "metadata": {},
   "outputs": [],
   "source": [
    "pd.set_option('display.notebook_repr_html', False)\n",
    "pd.set_option('display.max_columns', 8)\n",
    "pd.set_option('display.max_rows', 10)\n",
    "pd.set_option('display.width', 65)"
   ]
  },
  {
   "cell_type": "code",
   "execution_count": 4,
   "id": "ede0d237",
   "metadata": {},
   "outputs": [],
   "source": [
    "import matplotlib.pyplot as plt\n",
    "%matplotlib inline"
   ]
  },
  {
   "cell_type": "code",
   "execution_count": 5,
   "id": "5cdf1e31",
   "metadata": {},
   "outputs": [],
   "source": [
    "# sp500 = pd.read_csv('Data/sp500.csv', index_col='Symbol', usecols=[0, 2, 3, 7])"
   ]
  },
  {
   "cell_type": "code",
   "execution_count": 11,
   "id": "65dc7ce4",
   "metadata": {},
   "outputs": [
    {
     "data": {
      "text/plain": [
       "['low', 'high', 'medium', 'medium', 'high']\n",
       "Categories (3, object): ['high', 'low', 'medium']"
      ]
     },
     "execution_count": 11,
     "metadata": {},
     "output_type": "execute_result"
    }
   ],
   "source": [
    "lmh_values = ['low', 'high', 'medium', 'medium', 'high']\n",
    "lmh_cat = pd.Categorical(lmh_values)\n",
    "lmh_cat"
   ]
  },
  {
   "cell_type": "code",
   "execution_count": 15,
   "id": "7af6648c",
   "metadata": {},
   "outputs": [
    {
     "data": {
      "text/plain": [
       "array(['high', 'low', 'medium'], dtype=object)"
      ]
     },
     "execution_count": 15,
     "metadata": {},
     "output_type": "execute_result"
    }
   ],
   "source": [
    "lmh_cat.categories.values"
   ]
  },
  {
   "cell_type": "code",
   "execution_count": 17,
   "id": "bef6c5be",
   "metadata": {},
   "outputs": [
    {
     "data": {
      "text/plain": [
       "array([1, 0, 2, 2, 0], dtype=int8)"
      ]
     },
     "execution_count": 17,
     "metadata": {},
     "output_type": "execute_result"
    }
   ],
   "source": [
    "lmh_cat.codes"
   ]
  },
  {
   "cell_type": "code",
   "execution_count": 19,
   "id": "2396fdac",
   "metadata": {},
   "outputs": [],
   "source": [
    "lmh_cat = pd.Categorical(lmh_values, categories=['low', 'medium', 'high'])"
   ]
  },
  {
   "cell_type": "code",
   "execution_count": 23,
   "id": "57de9bd0",
   "metadata": {},
   "outputs": [
    {
     "data": {
      "text/plain": [
       "Index(['low', 'medium', 'high'], dtype='object')"
      ]
     },
     "execution_count": 23,
     "metadata": {},
     "output_type": "execute_result"
    }
   ],
   "source": [
    "lmh_cat.categories"
   ]
  },
  {
   "cell_type": "code",
   "execution_count": 24,
   "id": "186c5b73",
   "metadata": {},
   "outputs": [
    {
     "data": {
      "text/plain": [
       "array([0, 2, 1, 1, 2], dtype=int8)"
      ]
     },
     "execution_count": 24,
     "metadata": {},
     "output_type": "execute_result"
    }
   ],
   "source": [
    "lmh_cat.codes"
   ]
  },
  {
   "cell_type": "code",
   "execution_count": 25,
   "id": "fdd8f175",
   "metadata": {},
   "outputs": [
    {
     "data": {
      "text/plain": [
       "['low', 'medium', 'medium', 'high', 'high']\n",
       "Categories (3, object): ['low', 'medium', 'high']"
      ]
     },
     "execution_count": 25,
     "metadata": {},
     "output_type": "execute_result"
    }
   ],
   "source": [
    "lmh_cat.sort_values()"
   ]
  },
  {
   "cell_type": "code",
   "execution_count": 28,
   "id": "c90920ea",
   "metadata": {},
   "outputs": [
    {
     "data": {
      "text/plain": [
       "0       low\n",
       "1      high\n",
       "2    medium\n",
       "3    medium\n",
       "4      high\n",
       "dtype: category\n",
       "Categories (3, object): ['high', 'low', 'medium']"
      ]
     },
     "execution_count": 28,
     "metadata": {},
     "output_type": "execute_result"
    }
   ],
   "source": [
    "cat_series = pd.Series(lmh_values, dtype='category')\n",
    "cat_series"
   ]
  },
  {
   "cell_type": "code",
   "execution_count": 30,
   "id": "a95d05e5",
   "metadata": {},
   "outputs": [
    {
     "data": {
      "text/plain": [
       "0       low\n",
       "1      high\n",
       "2    medium\n",
       "3    medium\n",
       "4      high\n",
       "dtype: category\n",
       "Categories (3, object): ['high', 'low', 'medium']"
      ]
     },
     "execution_count": 30,
     "metadata": {},
     "output_type": "execute_result"
    }
   ],
   "source": [
    "s = pd.Series(lmh_values)\n",
    "as_cat = s.astype('category')\n",
    "as_cat"
   ]
  },
  {
   "cell_type": "code",
   "execution_count": 31,
   "id": "3128841d",
   "metadata": {},
   "outputs": [
    {
     "data": {
      "text/plain": [
       "<pandas.core.arrays.categorical.CategoricalAccessor object at 0x000001DE7C2EB730>"
      ]
     },
     "execution_count": 31,
     "metadata": {},
     "output_type": "execute_result"
    }
   ],
   "source": [
    "cat_series.cat"
   ]
  },
  {
   "cell_type": "code",
   "execution_count": 32,
   "id": "917a63ee",
   "metadata": {},
   "outputs": [
    {
     "data": {
      "text/plain": [
       "<pandas.core.arrays.categorical.CategoricalAccessor object at 0x000001DE7B4A4B50>"
      ]
     },
     "execution_count": 32,
     "metadata": {},
     "output_type": "execute_result"
    }
   ],
   "source": [
    "as_cat.cat"
   ]
  },
  {
   "cell_type": "code",
   "execution_count": 36,
   "id": "7b8cd725",
   "metadata": {},
   "outputs": [
    {
     "data": {
      "text/plain": [
       "Index(['high', 'low', 'medium'], dtype='object')"
      ]
     },
     "execution_count": 36,
     "metadata": {},
     "output_type": "execute_result"
    }
   ],
   "source": [
    "cat_series.cat.categories"
   ]
  },
  {
   "cell_type": "code",
   "execution_count": 41,
   "id": "61426aeb",
   "metadata": {},
   "outputs": [
    {
     "data": {
      "text/plain": [
       "   Values\n",
       "0      65\n",
       "1      49\n",
       "2      56\n",
       "3      43\n",
       "4      43"
      ]
     },
     "execution_count": 41,
     "metadata": {},
     "output_type": "execute_result"
    }
   ],
   "source": [
    "np.random.seed(123456)\n",
    "values = np.random.randint(0, 100, 5)\n",
    "bins = pd.DataFrame({'Values': values})\n",
    "bins"
   ]
  },
  {
   "cell_type": "code",
   "execution_count": 42,
   "id": "18c1accd",
   "metadata": {},
   "outputs": [
    {
     "data": {
      "text/plain": [
       "   Values     Group\n",
       "0      65  (60, 70]\n",
       "1      49  (40, 50]\n",
       "2      56  (50, 60]\n",
       "3      43  (40, 50]\n",
       "4      43  (40, 50]"
      ]
     },
     "execution_count": 42,
     "metadata": {},
     "output_type": "execute_result"
    }
   ],
   "source": [
    "bins['Group'] = pd.cut(values, range(0, 101, 10))\n",
    "bins"
   ]
  },
  {
   "cell_type": "code",
   "execution_count": 43,
   "id": "092b986e",
   "metadata": {},
   "outputs": [
    {
     "data": {
      "text/plain": [
       "0    (60, 70]\n",
       "1    (40, 50]\n",
       "2    (50, 60]\n",
       "3    (40, 50]\n",
       "4    (40, 50]\n",
       "Name: Group, dtype: category\n",
       "Categories (10, interval[int64, right]): [(0, 10] < (10, 20] < (20, 30] < (30, 40] ... (60, 70] < (70, 80] < (80, 90] < (90, 100]]"
      ]
     },
     "execution_count": 43,
     "metadata": {},
     "output_type": "execute_result"
    }
   ],
   "source": [
    "bins['Group']"
   ]
  },
  {
   "cell_type": "code",
   "execution_count": 45,
   "id": "6be4bd3c",
   "metadata": {},
   "outputs": [
    {
     "data": {
      "text/plain": [
       "['bronze', 'gold', 'silver', 'bronze']\n",
       "Categories (3, object): ['bronze' < 'silver' < 'gold']"
      ]
     },
     "execution_count": 45,
     "metadata": {},
     "output_type": "execute_result"
    }
   ],
   "source": [
    "metal_values = ['bronze', 'gold', 'silver', 'bronze']\n",
    "metal_categories = ['bronze', 'silver', 'gold']\n",
    "metals = pd.Categorical(metal_values, categories=metal_categories, ordered=True)\n",
    "metals"
   ]
  },
  {
   "cell_type": "code",
   "execution_count": 56,
   "id": "cb6b41d5",
   "metadata": {},
   "outputs": [
    {
     "data": {
      "text/plain": [
       "['bronze', 'silver', 'gold', 'bronze']\n",
       "Categories (3, object): ['bronze' < 'silver' < 'gold']"
      ]
     },
     "execution_count": 56,
     "metadata": {},
     "output_type": "execute_result"
    }
   ],
   "source": [
    "metals_reversed_values = pd.Categorical(metals[::-1], categories=metals.categories, ordered=True)\n",
    "metals_reversed_values"
   ]
  },
  {
   "cell_type": "code",
   "execution_count": 57,
   "id": "60eeae58",
   "metadata": {},
   "outputs": [
    {
     "data": {
      "text/plain": [
       "array([ True, False,  True,  True])"
      ]
     },
     "execution_count": 57,
     "metadata": {},
     "output_type": "execute_result"
    }
   ],
   "source": [
    "metals <= metals_reversed_values"
   ]
  },
  {
   "cell_type": "code",
   "execution_count": 63,
   "id": "84c39f6d",
   "metadata": {},
   "outputs": [
    {
     "data": {
      "text/plain": [
       "['bronze', NaN]\n",
       "Categories (3, object): ['bronze', 'silver', 'gold']"
      ]
     },
     "execution_count": 63,
     "metadata": {},
     "output_type": "execute_result"
    }
   ],
   "source": [
    "pd.Categorical(['bronze', 'copper'], categories=metal_categories)"
   ]
  },
  {
   "cell_type": "code",
   "execution_count": 7,
   "id": "e9a992c7",
   "metadata": {},
   "outputs": [
    {
     "data": {
      "text/plain": [
       "['a', NaN, NaN, 'c', NaN]\n",
       "Categories (2, object): ['a', 'c']"
      ]
     },
     "execution_count": 7,
     "metadata": {},
     "output_type": "execute_result"
    }
   ],
   "source": [
    "pd.Categorical(list('addcb'), categories=['a', 'c'])"
   ]
  },
  {
   "cell_type": "code",
   "execution_count": 10,
   "id": "1c8fc9e0",
   "metadata": {},
   "outputs": [],
   "source": [
    "cat = pd.Categorical(['a', 'b', 'c', 'a'], categories=['a', 'b', 'c'])"
   ]
  },
  {
   "cell_type": "code",
   "execution_count": 11,
   "id": "a5fec068",
   "metadata": {},
   "outputs": [
    {
     "data": {
      "text/plain": [
       "['a', 'b', 'c', 'a']\n",
       "Categories (3, object): ['a', 'b', 'c']"
      ]
     },
     "execution_count": 11,
     "metadata": {},
     "output_type": "execute_result"
    }
   ],
   "source": [
    "cat"
   ]
  },
  {
   "cell_type": "code",
   "execution_count": 12,
   "id": "4c26166f",
   "metadata": {},
   "outputs": [],
   "source": [
    "cat.categories = ['bronze', 'silver', 'gold']"
   ]
  },
  {
   "cell_type": "code",
   "execution_count": 13,
   "id": "f7781da8",
   "metadata": {},
   "outputs": [
    {
     "data": {
      "text/plain": [
       "['bronze', 'silver', 'gold', 'bronze']\n",
       "Categories (3, object): ['bronze', 'silver', 'gold']"
      ]
     },
     "execution_count": 13,
     "metadata": {},
     "output_type": "execute_result"
    }
   ],
   "source": [
    "cat"
   ]
  },
  {
   "cell_type": "code",
   "execution_count": 16,
   "id": "7dd78141",
   "metadata": {},
   "outputs": [
    {
     "data": {
      "text/plain": [
       "['x', 'y', 'z', 'x']\n",
       "Categories (3, object): ['x', 'y', 'z']"
      ]
     },
     "execution_count": 16,
     "metadata": {},
     "output_type": "execute_result"
    }
   ],
   "source": [
    "cat.rename_categories(['x', 'y', 'z'])"
   ]
  },
  {
   "cell_type": "code",
   "execution_count": 19,
   "id": "d4a9a7ab",
   "metadata": {},
   "outputs": [],
   "source": [
    "metals = pd.Categorical(['bronze', 'silver', 'gold'], ordered=True)"
   ]
  },
  {
   "cell_type": "code",
   "execution_count": 20,
   "id": "520febe7",
   "metadata": {},
   "outputs": [
    {
     "data": {
      "text/plain": [
       "['bronze', 'silver', 'gold']\n",
       "Categories (3, object): ['bronze' < 'gold' < 'silver']"
      ]
     },
     "execution_count": 20,
     "metadata": {},
     "output_type": "execute_result"
    }
   ],
   "source": [
    "metals"
   ]
  },
  {
   "cell_type": "code",
   "execution_count": 21,
   "id": "f659cc40",
   "metadata": {},
   "outputs": [
    {
     "data": {
      "text/plain": [
       "['bronze', 'silver', 'gold']\n",
       "Categories (4, object): ['bronze' < 'gold' < 'silver' < 'platinum']"
      ]
     },
     "execution_count": 21,
     "metadata": {},
     "output_type": "execute_result"
    }
   ],
   "source": [
    "metals.add_categories(['platinum'])"
   ]
  },
  {
   "cell_type": "code",
   "execution_count": 22,
   "id": "3da9c8f8",
   "metadata": {},
   "outputs": [
    {
     "data": {
      "text/plain": [
       "['bronze', 'silver', 'gold']\n",
       "Categories (3, object): ['bronze' < 'gold' < 'silver']"
      ]
     },
     "execution_count": 22,
     "metadata": {},
     "output_type": "execute_result"
    }
   ],
   "source": [
    "metals"
   ]
  },
  {
   "cell_type": "code",
   "execution_count": 24,
   "id": "a57f12ad",
   "metadata": {},
   "outputs": [
    {
     "data": {
      "text/plain": [
       "[NaN, 'silver', 'gold']\n",
       "Categories (2, object): ['gold' < 'silver']"
      ]
     },
     "execution_count": 24,
     "metadata": {},
     "output_type": "execute_result"
    }
   ],
   "source": [
    "metals.remove_categories(['bronze'])"
   ]
  },
  {
   "cell_type": "code",
   "execution_count": 25,
   "id": "8c550587",
   "metadata": {},
   "outputs": [
    {
     "data": {
      "text/plain": [
       "0     one\n",
       "1     two\n",
       "2    four\n",
       "3    five\n",
       "dtype: category\n",
       "Categories (4, object): ['five', 'four', 'one', 'two']"
      ]
     },
     "execution_count": 25,
     "metadata": {},
     "output_type": "execute_result"
    }
   ],
   "source": [
    "s = pd.Series(['one', 'two', 'four', 'five'], dtype='category')\n",
    "s"
   ]
  },
  {
   "cell_type": "code",
   "execution_count": 27,
   "id": "a1a8f926",
   "metadata": {},
   "outputs": [],
   "source": [
    "s = s.cat.set_categories(['one', 'four'])"
   ]
  },
  {
   "cell_type": "code",
   "execution_count": 28,
   "id": "ce09f54a",
   "metadata": {},
   "outputs": [
    {
     "data": {
      "text/plain": [
       "0     one\n",
       "1     NaN\n",
       "2    four\n",
       "3     NaN\n",
       "dtype: category\n",
       "Categories (2, object): ['one', 'four']"
      ]
     },
     "execution_count": 28,
     "metadata": {},
     "output_type": "execute_result"
    }
   ],
   "source": [
    "s"
   ]
  },
  {
   "cell_type": "code",
   "execution_count": 38,
   "id": "da9fc6c8",
   "metadata": {},
   "outputs": [
    {
     "data": {
      "text/plain": [
       "['bronze', 'silver', 'gold', 'bronze']\n",
       "Categories (3, object): ['bronze' < 'gold' < 'silver']"
      ]
     },
     "execution_count": 38,
     "metadata": {},
     "output_type": "execute_result"
    }
   ],
   "source": [
    "metals = pd.Categorical(['bronze', 'silver', 'gold', 'bronze'], ordered=True)\n",
    "metals"
   ]
  },
  {
   "cell_type": "code",
   "execution_count": 39,
   "id": "af06a51a",
   "metadata": {},
   "outputs": [
    {
     "data": {
      "text/plain": [
       "            counts  freqs\n",
       "categories               \n",
       "bronze           2   0.50\n",
       "gold             1   0.25\n",
       "silver           1   0.25"
      ]
     },
     "execution_count": 39,
     "metadata": {},
     "output_type": "execute_result"
    }
   ],
   "source": [
    "metals.describe()"
   ]
  },
  {
   "cell_type": "code",
   "execution_count": 40,
   "id": "29f28f28",
   "metadata": {},
   "outputs": [
    {
     "data": {
      "text/plain": [
       "bronze    2\n",
       "gold      1\n",
       "silver    1\n",
       "dtype: int64"
      ]
     },
     "execution_count": 40,
     "metadata": {},
     "output_type": "execute_result"
    }
   ],
   "source": [
    "metals.value_counts()"
   ]
  },
  {
   "cell_type": "code",
   "execution_count": 41,
   "id": "9c66f77a",
   "metadata": {},
   "outputs": [
    {
     "name": "stderr",
     "output_type": "stream",
     "text": [
      "C:\\Users\\Sergey\\AppData\\Local\\Temp\\ipykernel_26568\\3617098362.py:1: FutureWarning: Categorical.mode is deprecated and will be removed in a future version. Use Series.mode instead.\n",
      "  (metals.min(), metals.max(), metals.mode())\n"
     ]
    },
    {
     "data": {
      "text/plain": [
       "('bronze',\n",
       " 'silver',\n",
       " ['bronze']\n",
       " Categories (3, object): ['bronze' < 'gold' < 'silver'])"
      ]
     },
     "execution_count": 41,
     "metadata": {},
     "output_type": "execute_result"
    }
   ],
   "source": [
    "(metals.min(), metals.max(), metals.mode())"
   ]
  },
  {
   "cell_type": "code",
   "execution_count": 43,
   "id": "8ce335a5",
   "metadata": {},
   "outputs": [],
   "source": [
    "metals_ser = pd.Series(metals)"
   ]
  },
  {
   "cell_type": "code",
   "execution_count": 44,
   "id": "82524d32",
   "metadata": {},
   "outputs": [
    {
     "data": {
      "text/plain": [
       "('bronze',\n",
       " 'silver',\n",
       " 0    bronze\n",
       " dtype: category\n",
       " Categories (3, object): ['bronze' < 'gold' < 'silver'])"
      ]
     },
     "execution_count": 44,
     "metadata": {},
     "output_type": "execute_result"
    }
   ],
   "source": [
    "(metals_ser.min(), metals_ser.max(), metals_ser.mode())"
   ]
  },
  {
   "cell_type": "code",
   "execution_count": 5,
   "id": "55321f86",
   "metadata": {},
   "outputs": [
    {
     "data": {
      "text/plain": [
       "     Name  Grade\n",
       "0   Ivana     51\n",
       "1  Norris     92\n",
       "2    Ruth    100\n",
       "3    Lane     99\n",
       "4    Skye     93\n",
       "5     Sol     97\n",
       "6   Dylan     93\n",
       "7  Ratina     77\n",
       "8  Alissa     82\n",
       "9    Marc     73"
      ]
     },
     "execution_count": 5,
     "metadata": {},
     "output_type": "execute_result"
    }
   ],
   "source": [
    "np.random.seed(123456)\n",
    "names = ['Ivana', 'Norris', 'Ruth', 'Lane', 'Skye', 'Sol', \n",
    "        'Dylan', 'Ratina', 'Alissa', 'Marc']\n",
    "grades = np.random.randint(50, 101, len(names))\n",
    "scores = pd.DataFrame({'Name': names, 'Grade': grades})\n",
    "scores"
   ]
  },
  {
   "cell_type": "code",
   "execution_count": 6,
   "id": "db711a9a",
   "metadata": {},
   "outputs": [
    {
     "data": {
      "text/plain": [
       "[0, 59, 62, 66, 69, 72, 76, 79, 82, 86, 89, 92, 99, 100]"
      ]
     },
     "execution_count": 6,
     "metadata": {},
     "output_type": "execute_result"
    }
   ],
   "source": [
    "score_bins = [0, 59, 62, 66, 69, 72, 76, 79, 82, 86, 89, 92, 99, 100]\n",
    "score_bins"
   ]
  },
  {
   "cell_type": "code",
   "execution_count": 7,
   "id": "d38078d6",
   "metadata": {},
   "outputs": [
    {
     "data": {
      "text/plain": [
       "['F', 'D-', 'D', 'D+', 'C-', 'C', 'C+', 'B-', 'B', 'B+', 'A-', 'A', 'A+']"
      ]
     },
     "execution_count": 7,
     "metadata": {},
     "output_type": "execute_result"
    }
   ],
   "source": [
    "letter_grades = ['F', 'D-', 'D', 'D+', 'C-', 'C', 'C+', 'B-', 'B', 'B+', 'A-', 'A', 'A+']\n",
    "letter_grades"
   ]
  },
  {
   "cell_type": "code",
   "execution_count": 8,
   "id": "e966cc8b",
   "metadata": {},
   "outputs": [
    {
     "data": {
      "text/plain": [
       "0     F\n",
       "1    A-\n",
       "2    A+\n",
       "3     A\n",
       "4     A\n",
       "5     A\n",
       "6     A\n",
       "7    C+\n",
       "8    B-\n",
       "9     C\n",
       "Name: Grade, dtype: category\n",
       "Categories (13, object): ['F' < 'D-' < 'D' < 'D+' ... 'B+' < 'A-' < 'A' < 'A+']"
      ]
     },
     "execution_count": 8,
     "metadata": {},
     "output_type": "execute_result"
    }
   ],
   "source": [
    "letter_cats = pd.cut(scores['Grade'], score_bins, labels=letter_grades)\n",
    "letter_cats"
   ]
  },
  {
   "cell_type": "code",
   "execution_count": 9,
   "id": "419b5cca",
   "metadata": {},
   "outputs": [
    {
     "data": {
      "text/plain": [
       "     Name  Grade Letter\n",
       "0   Ivana     51      F\n",
       "1  Norris     92     A-\n",
       "2    Ruth    100     A+\n",
       "3    Lane     99      A\n",
       "4    Skye     93      A\n",
       "5     Sol     97      A\n",
       "6   Dylan     93      A\n",
       "7  Ratina     77     C+\n",
       "8  Alissa     82     B-\n",
       "9    Marc     73      C"
      ]
     },
     "execution_count": 9,
     "metadata": {},
     "output_type": "execute_result"
    }
   ],
   "source": [
    "scores['Letter'] = letter_cats\n",
    "scores"
   ]
  },
  {
   "cell_type": "code",
   "execution_count": 10,
   "id": "5e622f82",
   "metadata": {},
   "outputs": [
    {
     "data": {
      "text/plain": [
       "0     F\n",
       "1    A-\n",
       "2    A+\n",
       "3     A\n",
       "4     A\n",
       "5     A\n",
       "6     A\n",
       "7    C+\n",
       "8    B-\n",
       "9     C\n",
       "Name: Letter, dtype: category\n",
       "Categories (13, object): ['F' < 'D-' < 'D' < 'D+' ... 'B+' < 'A-' < 'A' < 'A+']"
      ]
     },
     "execution_count": 10,
     "metadata": {},
     "output_type": "execute_result"
    }
   ],
   "source": [
    "scores['Letter']"
   ]
  },
  {
   "cell_type": "code",
   "execution_count": 11,
   "id": "1347b30e",
   "metadata": {},
   "outputs": [
    {
     "data": {
      "text/plain": [
       "A     4\n",
       "F     1\n",
       "C     1\n",
       "C+    1\n",
       "B-    1\n",
       "     ..\n",
       "D     0\n",
       "D+    0\n",
       "C-    0\n",
       "B     0\n",
       "B+    0\n",
       "Name: Letter, Length: 13, dtype: int64"
      ]
     },
     "execution_count": 11,
     "metadata": {},
     "output_type": "execute_result"
    }
   ],
   "source": [
    "scores['Letter'].value_counts()"
   ]
  },
  {
   "cell_type": "code",
   "execution_count": 13,
   "id": "4bec0de7",
   "metadata": {},
   "outputs": [
    {
     "data": {
      "text/plain": [
       "     Name  Grade Letter\n",
       "2    Ruth    100     A+\n",
       "3    Lane     99      A\n",
       "4    Skye     93      A\n",
       "5     Sol     97      A\n",
       "6   Dylan     93      A\n",
       "1  Norris     92     A-\n",
       "8  Alissa     82     B-\n",
       "7  Ratina     77     C+\n",
       "9    Marc     73      C\n",
       "0   Ivana     51      F"
      ]
     },
     "execution_count": 13,
     "metadata": {},
     "output_type": "execute_result"
    }
   ],
   "source": [
    "scores.sort_values(by=['Letter'], ascending=False)"
   ]
  },
  {
   "cell_type": "code",
   "execution_count": null,
   "id": "8fecb42f",
   "metadata": {},
   "outputs": [],
   "source": []
  },
  {
   "cell_type": "code",
   "execution_count": null,
   "id": "f5c90198",
   "metadata": {},
   "outputs": [],
   "source": []
  },
  {
   "cell_type": "code",
   "execution_count": null,
   "id": "fe68fe1e",
   "metadata": {},
   "outputs": [],
   "source": []
  },
  {
   "cell_type": "code",
   "execution_count": null,
   "id": "66258e53",
   "metadata": {},
   "outputs": [],
   "source": []
  }
 ],
 "metadata": {
  "kernelspec": {
   "display_name": "Python 3 (ipykernel)",
   "language": "python",
   "name": "python3"
  },
  "language_info": {
   "codemirror_mode": {
    "name": "ipython",
    "version": 3
   },
   "file_extension": ".py",
   "mimetype": "text/x-python",
   "name": "python",
   "nbconvert_exporter": "python",
   "pygments_lexer": "ipython3",
   "version": "3.9.12"
  }
 },
 "nbformat": 4,
 "nbformat_minor": 5
}
